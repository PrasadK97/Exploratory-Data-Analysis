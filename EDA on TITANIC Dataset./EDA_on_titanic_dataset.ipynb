{
  "nbformat": 4,
  "nbformat_minor": 0,
  "metadata": {
    "colab": {
      "provenance": []
    },
    "kernelspec": {
      "name": "python3",
      "display_name": "Python 3"
    },
    "language_info": {
      "name": "python"
    }
  },
  "cells": [
    {
      "cell_type": "code",
      "execution_count": null,
      "metadata": {
        "id": "4oaCrQ1l1Xmg"
      },
      "outputs": [],
      "source": [
        "import numpy as np\n",
        "import pandas as pd\n",
        "import matplotlib.pyplot as plt\n",
        "import seaborn as sns\n",
        "from scipy.stats import chi2_contingency\n",
        "%matplotlib inline\n",
        "%config InlineBackend.figure_format = 'retina'\n",
        "plt.style.use('seaborn-ticks')\n",
        "\n",
        "SMALL_SIZE = 13\n",
        "MEDIUM_SIZE = 14\n",
        "BIGGER_SIZE = 16\n",
        "\n",
        "plt.rc('font', size=SMALL_SIZE)          # controls default text sizes\n",
        "plt.rc('axes', titlesize=SMALL_SIZE)     # fontsize of the axes title\n",
        "plt.rc('axes', labelsize=MEDIUM_SIZE)    # fontsize of the x and y labels\n",
        "plt.rc('xtick', labelsize=MEDIUM_SIZE)    # fontsize of the tick labels\n",
        "plt.rc('ytick', labelsize=MEDIUM_SIZE)    # fontsize of the tick labels\n",
        "plt.rc('legend', fontsize=SMALL_SIZE)    # legend fontsize"
      ]
    },
    {
      "cell_type": "markdown",
      "source": [
        "# Questions which i tried to find answer to with this data analysis\n",
        "\n",
        "Did the Port of Embarkation affect the chances of surviving?.\n",
        "\n",
        "How did the other factors influence this?\n",
        "\n",
        "Did Age effect the chances of surviving?"
      ],
      "metadata": {
        "id": "T1zaKdKl7vmn"
      }
    },
    {
      "cell_type": "code",
      "source": [
        "#Load the CSV into a Pandas Dataframe\n",
        "titanic_data = pd.read_csv('titanic-data.csv')"
      ],
      "metadata": {
        "id": "iWPFLkYN1g62"
      },
      "execution_count": null,
      "outputs": []
    },
    {
      "cell_type": "code",
      "source": [
        "titanic_data.head(5)"
      ],
      "metadata": {
        "id": "MmX7Mzlo1g9M"
      },
      "execution_count": null,
      "outputs": []
    },
    {
      "cell_type": "code",
      "source": [
        "titanic_data.info()"
      ],
      "metadata": {
        "id": "BZJwEHDj1g_V"
      },
      "execution_count": null,
      "outputs": []
    },
    {
      "cell_type": "code",
      "source": [
        "#Drop the unwanted columns\n",
        "n_titanic_data=titanic_data.drop(['Cabin','Ticket','Name',\n",
        "                                  'Fare','PassengerId'],axis=1)\n",
        "n_titanic_data.head()"
      ],
      "metadata": {
        "id": "sTtg1bQd1hD1"
      },
      "execution_count": null,
      "outputs": []
    },
    {
      "cell_type": "code",
      "source": [
        "n_titanic_data.info()"
      ],
      "metadata": {
        "id": "nORRzR7H1hGV"
      },
      "execution_count": null,
      "outputs": []
    },
    {
      "cell_type": "markdown",
      "source": [
        "#Data Visualizations\n"
      ],
      "metadata": {
        "id": "hdV2v1JJ6aSY"
      }
    },
    {
      "cell_type": "code",
      "source": [
        "#Make another copy of the new dataframe\n",
        "descript = n_titanic_data.copy()\n",
        "\n",
        "#Change the embarked keys to better readable ones\n",
        "descript.loc[:,'Embarked'].replace(['C','S','Q'],\n",
        "                                      ['Cherbourg','Southampton','Queenstown'],\n",
        "                                      inplace=True)\n",
        "#And the survived keys\n",
        "descript.loc[:,'Survived'].replace([0,1],['No','Yes'],inplace=True)"
      ],
      "metadata": {
        "id": "0QLSxyBh1hI1"
      },
      "execution_count": null,
      "outputs": []
    },
    {
      "cell_type": "code",
      "source": [
        "# Make a function to get the composition of the variables per number of passengers\n",
        "def Groupby_OneCol_comp_plot(df, col, plt_style = 'seaborn-ticks', color_palette = \"coolwarm\"):\n",
        "    '''\n",
        "    Group by col1, sort by size , return and plot the dataframe with a bar and pie plot\n",
        "    '''\n",
        "    gr=pd.DataFrame()\n",
        "    gr['{} No'.format(col)] = df.groupby(col).size()\n",
        "    gr['{} Ratio'.format(col)] = np.round(gr['{} No'.format(col)].divide(gr['{} No'.format(col)].sum())*100,0)\n",
        "\n",
        "    print ('Total No. of {}:{}'.format(col,gr['{} No'.format(col)].sum()))\n",
        "\n",
        "    plt.style.use(plt_style)\n",
        "    sns.set_palette(sns.color_palette(color_palette))\n",
        "\n",
        "    fig=plt.figure()\n",
        "    plt.axis('off')\n",
        "\n",
        "    fig.add_subplot(121)\n",
        "\n",
        "    ax=gr['{} No'.format(col)].plot(kind='bar', title='{} Counts'.format(col), figsize=(16,8), color=sns.color_palette())\n",
        "    _ = plt.setp(ax.get_xticklabels(), rotation=0)\n",
        "    for p in ax.patches: ax.annotate(np.round(p.get_height(),decimals=2),\n",
        "                                     (p.get_x()+p.get_width()/2., p.get_height()),\n",
        "                                     ha='center', va='center', xytext=(0, 10), textcoords='offset points')\n",
        "    ax.get_yaxis().set_ticks([])\n",
        "    plt.xlabel('')\n",
        "\n",
        "    fig.add_subplot(122)\n",
        "    plt.axis('off')\n",
        "    gr.loc[:,'{} Ratio'.format(col)].plot(kind= 'pie',\n",
        "                                     autopct='%1.1f%%',shadow=False,\n",
        "                                     title='{} Ratio'.format(col), legend=False, labels=None);\n",
        "    sns.despine(top=True, right=True, left=True, bottom=False);"
      ],
      "metadata": {
        "id": "jCNMJ8XO1hLT"
      },
      "execution_count": null,
      "outputs": []
    },
    {
      "cell_type": "code",
      "source": [
        "Groupby_OneCol_comp_plot(descript, 'Embarked')"
      ],
      "metadata": {
        "id": "m58UgtbF1wRl"
      },
      "execution_count": null,
      "outputs": []
    },
    {
      "cell_type": "markdown",
      "source": [
        "#Correlation of Survived with Embarked\n"
      ],
      "metadata": {
        "id": "jiPsiJ3r6l54"
      }
    },
    {
      "cell_type": "code",
      "source": [
        "def plot(table, legloc='upper right',\n",
        "                                    plt_style = 'seaborn-ticks',\n",
        "                                    color_palette=\"dark\",sorter=None, stacked=False,\n",
        "                                    kind = 'bar', percentage = True,\n",
        "                               custom_title=None, minimal=True, figsize=(19,10), width=0.7 ):\n",
        "    grouped = table\n",
        "\n",
        "    #Tranform to percentages\n",
        "    if percentage == True:\n",
        "        grouped = np.round(grouped.divide(grouped['Total'],axis=0)*100,0)\n",
        "    try:\n",
        "        del grouped['Total']\n",
        "    except:\n",
        "        pass\n",
        "\n",
        "    # rearrange the columns\n",
        "    if sorter:\n",
        "        grouped = grouped[sorter]\n",
        "\n",
        "    plt.style.use(plt_style)\n",
        "    sns.set_palette(sns.color_palette(color_palette))\n",
        "    ax = grouped.plot(kind=kind,stacked=stacked, figsize=figsize, width=width)\n",
        "    _ = plt.setp(ax.get_xticklabels(), rotation=0)  # Rotate labels\n",
        "    plt.legend(loc=legloc) # plot the legend normally\n",
        "\n",
        "    #annotate the bars\n",
        "    if percentage == True:\n",
        "      for p in ax.patches:\n",
        "            ax.annotate('{}%'.format(int(np.round(p.get_height(),decimals=2))),\n",
        "                                         (p.get_x()+p.get_width()/2.,\n",
        "                                          p.get_height()), ha='center', va='center',\n",
        "                                        xytext=(0, 10), textcoords='offset points')\n",
        "    else:\n",
        "      for p in ax.patches:\n",
        "            ax.annotate(np.round(p.get_height(),decimals=2),\n",
        "                                         (p.get_x()+p.get_width()/2.,\n",
        "                                          p.get_height()), ha='center', va='center',\n",
        "                                        xytext=(0, 10), textcoords='offset points')\n",
        "    if minimal == True:\n",
        "        ax.get_yaxis().set_ticks([])\n",
        "        plt.xlabel('')\n",
        "        sns.despine(top=True, right=True, left=True, bottom=False);\n",
        "    else:\n",
        "        pass\n",
        "    # set custom title\n",
        "    plt.title(custom_title)\n",
        "\n",
        "def Groupby_TwoCol_Plot(df, col1, col2, legloc='upper right',\n",
        "                                    plt_style = 'ggplot',\n",
        "                                    color_palette=\"dark\",sorter=None, stacked=False,\n",
        "                                    kind = 'bar', percentage = True,\n",
        "                               custom_title=None, minimal=True, figsize=(14,6), width=0.6):\n",
        "\n",
        "    #Group by Placement and Representative and unstack by Placement\n",
        "    grouped = df.groupby([col2,col1]).size().unstack(col2)\n",
        "\n",
        "    #Make a totals column sort and delete after\n",
        "    grouped['Total'] = grouped.sum(axis=1)\n",
        "    #grouped = grouped.sort_values('Total', ascending = False)\n",
        "\n",
        "    plot(grouped, legloc=legloc,\n",
        "                                    plt_style = plt_style,\n",
        "                                    color_palette=color_palette,sorter=sorter, stacked=stacked,\n",
        "                                    kind = kind , percentage = percentage,\n",
        "                               custom_title=custom_title, minimal=minimal, figsize=figsize, width=width)"
      ],
      "metadata": {
        "id": "I7oqm3Mx1wT-"
      },
      "execution_count": null,
      "outputs": []
    },
    {
      "cell_type": "code",
      "source": [
        "Groupby_TwoCol_Plot(descript,'Embarked', 'Survived', color_palette=('darkred','steelblue'),\n",
        "                    plt_style = 'seaborn-ticks', custom_title='Proportion of Survived per Embarkation Port')"
      ],
      "metadata": {
        "id": "SC04VaLY1wWP"
      },
      "execution_count": null,
      "outputs": []
    },
    {
      "cell_type": "markdown",
      "source": [
        "We see that 55% of passengers embarked in Cherbourg survived compared to 34% and 39% at Southhampton and Queensberg respectively.\n",
        "\n",
        "This is counter-intuitive at a first look. Investigating deeper into the composition of the passengers regarding their gender and their class may given us more information about this relationship."
      ],
      "metadata": {
        "id": "ffApFAGP6uIg"
      }
    },
    {
      "cell_type": "markdown",
      "source": [
        "#Correlation of Embarked with Pclass."
      ],
      "metadata": {
        "id": "j-jsH7ce6v1A"
      }
    },
    {
      "cell_type": "code",
      "source": [
        "#Calculate percentages of port passengers per Class\n",
        "Groupby_TwoCol_Plot(descript,'Embarked', 'Pclass', color_palette=('cubehelix'),\n",
        "                    plt_style = 'seaborn-ticks', custom_title='Proportion of Embarked per PcClass', sorter = [1,2,3])"
      ],
      "metadata": {
        "id": "uZjuV3_a1wYV"
      },
      "execution_count": null,
      "outputs": []
    },
    {
      "cell_type": "markdown",
      "source": [
        "51% of the passengers embarked in Cherbourg are in the 1st Pclass compared to 20% and 3% respectively for Southhampton and Queenstown.\n",
        "\n",
        "It looks like the class may play a role in port of embarkation's relationship with survibability.\n",
        "\n",
        "Let's explore the survivability based on the Pcclass variable further.\n",
        "\n",
        "#Correlation of Survived with Pclass"
      ],
      "metadata": {
        "id": "0c0KesGi65yI"
      }
    },
    {
      "cell_type": "code",
      "source": [
        "Groupby_TwoCol_Plot(descript,'Pclass', 'Survived', color_palette=('darkred','steelblue'),\n",
        "                    plt_style = 'seaborn-ticks', custom_title='Proportion of Survived per PcClass')"
      ],
      "metadata": {
        "id": "V8bTGjFm1hNU"
      },
      "execution_count": null,
      "outputs": []
    },
    {
      "cell_type": "markdown",
      "source": [
        "63% of 1st class passengers survived compared to 47% and 24% for the 2nd and 3rd class respectively.\n",
        "\n",
        "Indeed, survivability seems to be correlated with the Pcclass and this could be the main factor behind the correlation with the port of embarkation as well.\n",
        "\n",
        "Let's investigate Embarked and the correlation with Sex\n",
        "\n",
        "#Correlation of Embarked with Sex"
      ],
      "metadata": {
        "id": "MUJ4-ZTu7CPo"
      }
    },
    {
      "cell_type": "code",
      "source": [
        "#Calculate percentages of port passengers per Sex\n",
        "Groupby_TwoCol_Plot(descript,'Embarked', 'Sex', color_palette=('lightpink','green'),\n",
        "                    plt_style = 'seaborn-ticks', custom_title='Proportion of Sex per PcClass',\n",
        "                   legloc='upper left')"
      ],
      "metadata": {
        "id": "l39wLeia1hQR"
      },
      "execution_count": null,
      "outputs": []
    },
    {
      "cell_type": "markdown",
      "source": [
        "There does not seem to be a clear pattern related to Sex that could be contributing to the increased survivability of the Cherbourg passengers.\n",
        "\n",
        "Let's see the Sex composition of the whole population.\n",
        "\n",
        "#Analysis of the Sex variable."
      ],
      "metadata": {
        "id": "GT5MywP87Hug"
      }
    },
    {
      "cell_type": "code",
      "source": [
        "Groupby_OneCol_comp_plot(descript, 'Sex', color_palette = ('lightpink','green') )"
      ],
      "metadata": {
        "id": "aMPUet5L1_gM"
      },
      "execution_count": null,
      "outputs": []
    },
    {
      "cell_type": "markdown",
      "source": [
        "#Correlation of Sex with Pclass."
      ],
      "metadata": {
        "id": "XCE6EhLJ7M3n"
      }
    },
    {
      "cell_type": "code",
      "source": [
        "#Calculate percentages of Pclass per Sex\n",
        "Groupby_TwoCol_Plot(descript,'Pclass', 'Sex', color_palette=('lightpink','green'),\n",
        "                    plt_style = 'seaborn-ticks', custom_title='Proportion of Sex per PcClass',\n",
        "                   legloc='upper left')"
      ],
      "metadata": {
        "id": "1-vDnd5X1_k3"
      },
      "execution_count": null,
      "outputs": []
    },
    {
      "cell_type": "markdown",
      "source": [
        "We observe that the 3rd class has a higher than average (71 % vs 65%) male percentage.\n",
        "\n",
        "And the survivability based on Sex\n",
        "\n",
        "##Correlation of Sex with Survived"
      ],
      "metadata": {
        "id": "oguz7xtA7SOy"
      }
    },
    {
      "cell_type": "code",
      "source": [
        "Groupby_TwoCol_Plot(descript,'Survived', 'Sex', color_palette=('lightpink','green'),\n",
        "                    plt_style = 'seaborn-ticks', custom_title='Proportion of Sex per Survived',\n",
        "                   legloc='upper left')"
      ],
      "metadata": {
        "id": "5Mr7mqHn1_my"
      },
      "execution_count": null,
      "outputs": []
    },
    {
      "cell_type": "markdown",
      "source": [
        "74% of females survived compared to 19% for males. 44% of the 1st class(which had a 65% survivability) comprised of females compared to 29% of the third class (24% survivability).\n",
        "\n",
        "We can observe this relationship in the following seaborn barplot where the black lines represent confidence intervals built using bootstrapping.\n",
        "\n",
        "#Correlation of Survived with Sex and Pclass."
      ],
      "metadata": {
        "id": "Aghvpr2L7XYk"
      }
    },
    {
      "cell_type": "code",
      "source": [
        "plt.figure(figsize=(14,6))\n",
        "sns.set_palette(sns.color_palette(('green','lightpink')))\n",
        "sns.barplot(data=n_titanic_data, x=\"Pclass\", hue='Sex', y='Survived', estimator=np.mean);\n",
        "plt.ylabel('proportion of survival')\n",
        "sns.despine(top=True, right=True, left=False, bottom=False);"
      ],
      "metadata": {
        "id": "JrowmOeA1_pD"
      },
      "execution_count": null,
      "outputs": []
    },
    {
      "cell_type": "markdown",
      "source": [
        "The proportion of survival for females in the first class was almost 100% in the first class compared to 50% in the third class.\n",
        "\n",
        "Further statistical tests need to be conducted but it seems that Age together with the Class have a compound effect on survivability as well as on the correlation of other variables to survivability.\n",
        "\n",
        "##Analysis of the Age variable\n",
        "Let's examine now the age distribution of the passengers and how Age affected their chances of survival.\n",
        "\n",
        "We will start with a plot of the entire population."
      ],
      "metadata": {
        "id": "L09VCdkp7cO_"
      }
    },
    {
      "cell_type": "code",
      "source": [
        "Make a dataframe for non missing 'Age'values\n",
        "not_missing = n_titanic_data[(n_titanic_data['Age'].notnull())]\n",
        "\n",
        "#And replace the survived keys\n",
        "not_missing.loc[:,'Survived'].replace([0,1],['No','Yes'],inplace=True)"
      ],
      "metadata": {
        "id": "juStOxBl1_rM"
      },
      "execution_count": null,
      "outputs": []
    },
    {
      "cell_type": "code",
      "source": [
        "print ('No. of Passengers with not missing Age Values:{}'.format(len(not_missing)))"
      ],
      "metadata": {
        "id": "kI32RqzK2H47"
      },
      "execution_count": null,
      "outputs": []
    },
    {
      "cell_type": "code",
      "source": [
        "ax=plt.figure()\n",
        "plt.suptitle('Passenger Age Distribution')\n",
        "ax.add_subplot(121)\n",
        "sns.distplot(not_missing['Age'],bins=11)\n",
        "ax.add_subplot(122)\n",
        "sns.violinplot(not_missing['Age']);"
      ],
      "metadata": {
        "id": "fhkK6L7b2H7U"
      },
      "execution_count": null,
      "outputs": []
    },
    {
      "cell_type": "code",
      "source": [
        "# Get summary descriptive statistics\n",
        "v= pd.DataFrame(not_missing['Age'].describe())\n",
        "\n",
        "#Change the index labels and round the values reported\n",
        "v.index = ['Population Size', 'Mean', 'Std. Deviation', 'Min', '25% Qt', 'Median',\\\n",
        "               '75% Qt', 'Max']\n",
        "v = v.round(decimals=3)\n",
        "v"
      ],
      "metadata": {
        "id": "9B3VFFeS2H9z"
      },
      "execution_count": null,
      "outputs": []
    },
    {
      "cell_type": "code",
      "source": [
        "not_missing.hist(column=\"Age\",by=\"Survived\",sharey=True,normed=True)\n",
        "plt.suptitle('Age Density Distribution grouped by Survived');\n"
      ],
      "metadata": {
        "id": "1HrASOez2IAO"
      },
      "execution_count": null,
      "outputs": []
    },
    {
      "cell_type": "markdown",
      "source": [
        "We observe that the percentage of children below 10 that survived was significantly higher and almost nobody over 70 year's old survived. We would like to examine if this was by luck or by some other underlying reason (like the 'Women and Children first' rule)."
      ],
      "metadata": {
        "id": "fD8yq8bt7kCA"
      }
    },
    {
      "cell_type": "code",
      "source": [
        "#Make a datframe with the sample populations\n",
        "age = pd.DataFrame()\n",
        "age['all'] = not_missing['Age']\n",
        "not_survived = age['Not-survived'] = not_missing['Age'][not_missing['Survived']=='No']\n",
        "survived = age['Survived'] = not_missing['Age'][not_missing['Survived']=='Yes']\n",
        "\n",
        "#Get the summary statistics\n",
        "var = age.describe()\n",
        "\n",
        "#Change the index labels and round the values reported\n",
        "var.index = ['Sample Size', 'Mean', 'Std. Deviation', 'Min', '25% Qt', 'Median',\\\n",
        "               '75% Qt', 'Max']\n",
        "var = var.round(decimals=3)"
      ],
      "metadata": {
        "colab": {
          "base_uri": "https://localhost:8080/",
          "height": 245
        },
        "id": "ibISaex32ICA",
        "outputId": "6bfcac88-2cb8-4ba1-876b-0d042473de06"
      },
      "execution_count": 1,
      "outputs": [
        {
          "output_type": "error",
          "ename": "NameError",
          "evalue": "ignored",
          "traceback": [
            "\u001b[0;31m---------------------------------------------------------------------------\u001b[0m",
            "\u001b[0;31mNameError\u001b[0m                                 Traceback (most recent call last)",
            "\u001b[0;32m<ipython-input-1-87962bb9cac4>\u001b[0m in \u001b[0;36m<cell line: 2>\u001b[0;34m()\u001b[0m\n\u001b[1;32m      1\u001b[0m \u001b[0;31m#Make a datframe with the sample populations\u001b[0m\u001b[0;34m\u001b[0m\u001b[0;34m\u001b[0m\u001b[0m\n\u001b[0;32m----> 2\u001b[0;31m \u001b[0mage\u001b[0m \u001b[0;34m=\u001b[0m \u001b[0mpd\u001b[0m\u001b[0;34m.\u001b[0m\u001b[0mDataFrame\u001b[0m\u001b[0;34m(\u001b[0m\u001b[0;34m)\u001b[0m\u001b[0;34m\u001b[0m\u001b[0;34m\u001b[0m\u001b[0m\n\u001b[0m\u001b[1;32m      3\u001b[0m \u001b[0mage\u001b[0m\u001b[0;34m[\u001b[0m\u001b[0;34m'all'\u001b[0m\u001b[0;34m]\u001b[0m \u001b[0;34m=\u001b[0m \u001b[0mnot_missing\u001b[0m\u001b[0;34m[\u001b[0m\u001b[0;34m'Age'\u001b[0m\u001b[0;34m]\u001b[0m\u001b[0;34m\u001b[0m\u001b[0;34m\u001b[0m\u001b[0m\n\u001b[1;32m      4\u001b[0m \u001b[0mnot_survived\u001b[0m \u001b[0;34m=\u001b[0m \u001b[0mage\u001b[0m\u001b[0;34m[\u001b[0m\u001b[0;34m'Not-survived'\u001b[0m\u001b[0;34m]\u001b[0m \u001b[0;34m=\u001b[0m \u001b[0mnot_missing\u001b[0m\u001b[0;34m[\u001b[0m\u001b[0;34m'Age'\u001b[0m\u001b[0;34m]\u001b[0m\u001b[0;34m[\u001b[0m\u001b[0mnot_missing\u001b[0m\u001b[0;34m[\u001b[0m\u001b[0;34m'Survived'\u001b[0m\u001b[0;34m]\u001b[0m\u001b[0;34m==\u001b[0m\u001b[0;34m'No'\u001b[0m\u001b[0;34m]\u001b[0m\u001b[0;34m\u001b[0m\u001b[0;34m\u001b[0m\u001b[0m\n\u001b[1;32m      5\u001b[0m \u001b[0msurvived\u001b[0m \u001b[0;34m=\u001b[0m \u001b[0mage\u001b[0m\u001b[0;34m[\u001b[0m\u001b[0;34m'Survived'\u001b[0m\u001b[0;34m]\u001b[0m \u001b[0;34m=\u001b[0m \u001b[0mnot_missing\u001b[0m\u001b[0;34m[\u001b[0m\u001b[0;34m'Age'\u001b[0m\u001b[0;34m]\u001b[0m\u001b[0;34m[\u001b[0m\u001b[0mnot_missing\u001b[0m\u001b[0;34m[\u001b[0m\u001b[0;34m'Survived'\u001b[0m\u001b[0;34m]\u001b[0m\u001b[0;34m==\u001b[0m\u001b[0;34m'Yes'\u001b[0m\u001b[0;34m]\u001b[0m\u001b[0;34m\u001b[0m\u001b[0;34m\u001b[0m\u001b[0m\n",
            "\u001b[0;31mNameError\u001b[0m: name 'pd' is not defined"
          ]
        }
      ]
    },
    {
      "cell_type": "code",
      "source": [],
      "metadata": {
        "id": "SfFPa80X2aiO"
      },
      "execution_count": null,
      "outputs": []
    },
    {
      "cell_type": "code",
      "source": [
        "var.loc[:,['Not-survived','Survived']]"
      ],
      "metadata": {
        "id": "Wfw8VbrR2IEY"
      },
      "execution_count": null,
      "outputs": []
    },
    {
      "cell_type": "code",
      "source": [
        "#Create age-groups\n",
        "age_labels = ['0-9', '10-19', '20-29', '30-39', '40-49', '50-59', '60-69',\n",
        "              '70-80']\n",
        "age_group_values = pd.cut(not_missing.Age, range(0,81,10),\n",
        "                                   right=False, labels=age_labels)\n",
        "not_missing.loc[:,'age-groups'] = age_group_values\n",
        "\n",
        "#Set the value for the one 80-year old outside the bins\n",
        "#chi-squared is notvalid for no of observations below 5\n",
        "not_missing.loc[not_missing['Age']>=80, 'age-groups'] = '70-80'\n",
        "\n",
        "#Make an observed-table for chi-squared test\n",
        "obs_table = pd.crosstab([not_missing['Survived']],[not_missing['age-groups']])"
      ],
      "metadata": {
        "id": "uJfhoZlW2IGT"
      },
      "execution_count": null,
      "outputs": []
    },
    {
      "cell_type": "code",
      "source": [
        "obs_table"
      ],
      "metadata": {
        "id": "01mOx0tZ2IIh"
      },
      "execution_count": null,
      "outputs": []
    },
    {
      "cell_type": "code",
      "source": [
        "#Compute Chi-square statistic\n",
        "chi2, p, dof, expected = chi2_contingency(obs_table)\n",
        "\n",
        "#report results\n",
        "print('chi2:{}\\ndof:{}\\np:{}'.format(chi2,dof,p))"
      ],
      "metadata": {
        "id": "uJEKu50z2bfc"
      },
      "execution_count": null,
      "outputs": []
    }
  ]
}